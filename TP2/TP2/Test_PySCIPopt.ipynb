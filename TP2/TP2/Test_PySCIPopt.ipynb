{
 "cells": [
  {
   "cell_type": "code",
   "execution_count": 6,
   "id": "cef30ef9",
   "metadata": {},
   "outputs": [
    {
     "name": "stdout",
     "output_type": "stream",
     "text": [
      "/bin/bash: pip: command not found\r\n"
     ]
    }
   ],
   "source": [
    "!pip install pyscipopt"
   ]
  },
  {
   "cell_type": "code",
   "execution_count": 7,
   "id": "47640f85",
   "metadata": {},
   "outputs": [],
   "source": [
    "from pyscipopt import Model, quicksum, multidict\n"
   ]
  },
  {
   "cell_type": "code",
   "execution_count": 8,
   "id": "6d905958",
   "metadata": {},
   "outputs": [],
   "source": [
    "# create one model instance, with a name\n",
    "m = Model('telephone_production')"
   ]
  },
  {
   "cell_type": "code",
   "execution_count": 9,
   "id": "08e5f8a0",
   "metadata": {},
   "outputs": [],
   "source": [
    "# by default, all variables in Docplex have a lower bound of 0 and infinite upper bound\n",
    "desk =m.addVar(vtype=\"I\", name=\"desk\" )\n",
    "cell =m.addVar(vtype=\"I\", name=\"cell\" )"
   ]
  },
  {
   "cell_type": "code",
   "execution_count": 10,
   "id": "84c01e42",
   "metadata": {},
   "outputs": [],
   "source": [
    "\n",
    "# Objective:\n",
    "m.setObjective(12 * desk + 20 * cell, \"maximize\")\n",
    "\n",
    "# write constraints\n",
    "# constraint #1: desk production is greater than 100\n",
    "m.addCons(desk >= 100, \"desk\")\n",
    "\n",
    "# constraint #2: cell production is greater than 100\n",
    "m.addCons(cell >= 100, \"cell\")\n",
    "\n",
    "# constraint #3: assembly time limit\n",
    "ct_assembly = m.addCons( 0.2 * desk + 0.4 * cell <= 400, \"assembly_limit\")\n",
    "\n",
    "# constraint #4: paiting time limit\n",
    "ct_painting = m.addCons( 0.5 * desk + 0.4 * cell <= 490, \"painting_limit\")"
   ]
  },
  {
   "cell_type": "code",
   "execution_count": 11,
   "id": "e47213fc",
   "metadata": {},
   "outputs": [
    {
     "name": "stdout",
     "output_type": "stream",
     "text": [
      "Optimal value: 20600.0\n",
      "('desk', 'cell')  =  (300.0, 850.0)\n"
     ]
    }
   ],
   "source": [
    "\n",
    "\n",
    "\n",
    "m.hideOutput()\n",
    "m.optimize()\n",
    "\n",
    "# solution = model.getBestSol()\n",
    "\n",
    "print(\"Optimal value:\", m.getObjVal())\n",
    "print((desk.name, cell.name), \" = \", \n",
    "      (m.getVal(desk), m.getVal(cell)))"
   ]
  },
  {
   "cell_type": "code",
   "execution_count": null,
   "id": "d535357d",
   "metadata": {},
   "outputs": [],
   "source": []
  }
 ],
 "metadata": {
  "kernelspec": {
   "display_name": "Python 3 (ipykernel)",
   "language": "python",
   "name": "python3"
  },
  "language_info": {
   "codemirror_mode": {
    "name": "ipython",
    "version": 3
   },
   "file_extension": ".py",
   "mimetype": "text/x-python",
   "name": "python",
   "nbconvert_exporter": "python",
   "pygments_lexer": "ipython3",
   "version": "3.9.12"
  }
 },
 "nbformat": 4,
 "nbformat_minor": 5
}
